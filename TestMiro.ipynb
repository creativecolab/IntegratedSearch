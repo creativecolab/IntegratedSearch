{
 "cells": [
  {
   "cell_type": "code",
   "execution_count": 3,
   "id": "f9f77d73",
   "metadata": {},
   "outputs": [],
   "source": [
    "import requests\n",
    "import json\n",
    "import pandas as pd\n",
    "from requests_oauthlib import OAuth2Session #conda install requests-oauthlib"
   ]
  },
  {
   "cell_type": "code",
   "execution_count": null,
   "id": "2957f427",
   "metadata": {},
   "outputs": [],
   "source": [
    "#Dev credentials to run the API\n",
    "\n",
    "client_secret=\"PFZeEax1Ln6qkFuqxCWTgum0o4O5sAaC\"\n",
    "client_id=\"3074457360917723621\"\n",
    "auth_link=\"https://miro.com/oauth/authorize\"\n",
    "redirect_uri=\"https://localhost:8080/miro\""
   ]
  },
  {
   "cell_type": "markdown",
   "id": "75b3afbf",
   "metadata": {},
   "source": [
    "## User authentication process"
   ]
  },
  {
   "cell_type": "code",
   "execution_count": 49,
   "id": "b6294bb2",
   "metadata": {},
   "outputs": [
    {
     "name": "stdout",
     "output_type": "stream",
     "text": [
      "Please go to https://miro.com/oauth/authorize?response_type=code&client_id=3074457360917723621&redirect_uri=https%3A%2F%2Flocalhost%3A8080%2Fmiro&state=qSiLWfnci54Hx4nKw205muuLQGuKSq and authorize access.\n"
     ]
    }
   ],
   "source": [
    "#Getting authentitation from other users\n",
    "\n",
    "oauth = OAuth2Session(client_id, redirect_uri=redirect_uri)\n",
    "authorization_url, state = oauth.authorization_url(\n",
    "        auth_link)\n",
    "print('Please go to %s and authorize access.' % authorization_url)"
   ]
  },
  {
   "cell_type": "markdown",
   "id": "ba0e8744",
   "metadata": {},
   "source": [
    "After authorizing access, a new URL appears in the address bar. It should begin with https://localhost:8080/miro. Copy the URL, run the code block below, and paste it into the box that appears."
   ]
  },
  {
   "cell_type": "code",
   "execution_count": 54,
   "id": "195ec2d9",
   "metadata": {},
   "outputs": [
    {
     "name": "stdout",
     "output_type": "stream",
     "text": [
      "Copy and paste the URL address here:https://localhost:8080/miro?code=gTHHOQ&state=qSiLWfnci54Hx4nKw205muuLQGuKSq&client_id=3074457360917723621&team_id=3074457360917633599\n"
     ]
    }
   ],
   "source": [
    "authorization_response = input('Copy and paste the URL address here:')\n",
    "fetch_url=\"https://api.miro.com/v1/oauth/token?grant_type=authorization_code&code=\"+authorization_response[33: 39]+\"&redirect_uri=\"+ redirect_uri+\"&client_id=\"+client_id+\"&client_secret=\"+ client_secret \n",
    "\n",
    "token = oauth.fetch_token(fetch_url,authorization_response=authorization_response, client_secret=client_secret)"
   ]
  },
  {
   "cell_type": "markdown",
   "id": "88e4fc15",
   "metadata": {},
   "source": [
    "Using the info from the URL you pasted, the API took your information after authentication and created a token with your user_id and team_id so that it can now fetch data from your account."
   ]
  },
  {
   "cell_type": "code",
   "execution_count": 57,
   "id": "5522267a",
   "metadata": {},
   "outputs": [
    {
     "data": {
      "text/plain": [
       "{'account_id': '3074457360917633599',\n",
       " 'user_id': '3074457360917294320',\n",
       " 'refresh_token': None,\n",
       " 'expires_in': 0,\n",
       " 'scope': ['boards:write', 'boards:read'],\n",
       " 'access_token': 'z1hqk8yzDV3eFmJDhSS9i7dMrv4',\n",
       " 'team_id': '3074457360917633599',\n",
       " 'token_type': 'bearer',\n",
       " 'expires_at': 1625612097.9835253}"
      ]
     },
     "execution_count": 57,
     "metadata": {},
     "output_type": "execute_result"
    }
   ],
   "source": [
    "token\n",
    "user_access_token=token['access_token']\n",
    "user_id=token['user_id']\n",
    "access_token=token['access_token']\n",
    "token"
   ]
  },
  {
   "cell_type": "code",
   "execution_count": 64,
   "id": "e9d4b854",
   "metadata": {},
   "outputs": [
    {
     "name": "stdout",
     "output_type": "stream",
     "text": [
      "{\n",
      "  \"type\" : \"board\",\n",
      "  \"team\" : {\n",
      "    \"type\" : \"team\",\n",
      "    \"name\" : \"Dev team\",\n",
      "    \"id\" : \"3074457360917633599\"\n",
      "  },\n",
      "  \"currentUserConnection\" : {\n",
      "    \"type\" : \"board-user-connection\",\n",
      "    \"role\" : \"owner\",\n",
      "    \"user\" : {\n",
      "      \"type\" : \"user\",\n",
      "      \"name\" : \"Sheldon Zhu\",\n",
      "      \"id\" : \"3074457360917294320\"\n",
      "    },\n",
      "    \"id\" : \"3074457361078096658\"\n",
      "  },\n",
      "  \"modifiedAt\" : \"2021-07-06T23:08:13Z\",\n",
      "  \"modifiedBy\" : {\n",
      "    \"type\" : \"user\",\n",
      "    \"name\" : \"Sheldon Zhu\",\n",
      "    \"id\" : \"3074457360917294320\"\n",
      "  },\n",
      "  \"createdBy\" : {\n",
      "    \"type\" : \"user\",\n",
      "    \"name\" : \"Sheldon Zhu\",\n",
      "    \"id\" : \"3074457360917294320\"\n",
      "  },\n",
      "  \"sharingPolicy\" : {\n",
      "    \"access\" : \"private\",\n",
      "    \"teamAccess\" : \"private\",\n",
      "    \"accountAccess\" : \"private\"\n",
      "  },\n",
      "  \"viewLink\" : \"https://miro.com/app/board/o9J_l7zDaUg=\",\n",
      "  \"name\" : \"Untitled\",\n",
      "  \"id\" : \"o9J_l7zDaUg=\",\n",
      "  \"owner\" : {\n",
      "    \"type\" : \"user\",\n",
      "    \"name\" : \"Sheldon Zhu\",\n",
      "    \"id\" : \"3074457360917294320\"\n",
      "  },\n",
      "  \"description\" : \"\",\n",
      "  \"picture\" : null,\n",
      "  \"createdAt\" : \"2021-07-06T23:08:13Z\"\n",
      "}\n"
     ]
    }
   ],
   "source": [
    "#Create a new board\n",
    "url = \"https://api.miro.com/v1/boards\"\n",
    "\n",
    "payload = {\n",
    "    \"name\": \"Test Board\",\n",
    "    \"sharingPolicy\": {\n",
    "        \"access\": \"private\",\n",
    "        \"teamAccess\": \"private\"\n",
    "    }\n",
    "}\n",
    "headers = {\n",
    "    \"Accept\": \"application/json\",\n",
    "    \"Content-Type\": \"application/json\",\n",
    "    \"Authorization\": \"Bearer \"+access_token\n",
    "}\n",
    "\n",
    "new_board_response = requests.request(\"POST\", url, json=payload, headers=headers)\n",
    "board_responsejson=json.loads(new_board_response.text)\n",
    "print(new_board_response.text)"
   ]
  },
  {
   "cell_type": "code",
   "execution_count": 67,
   "id": "f4cbd01e",
   "metadata": {
    "scrolled": true
   },
   "outputs": [
    {
     "name": "stdout",
     "output_type": "stream",
     "text": [
      "{\n",
      "  \"id\" : \"3074457361077538762\",\n",
      "  \"type\" : \"card\",\n",
      "  \"title\" : \"Environmental effects of COVID-19\",\n",
      "  \"description\" : \"\",\n",
      "  \"date\" : null,\n",
      "  \"card\" : null,\n",
      "  \"x\" : 0.0,\n",
      "  \"rotation\" : 0.0,\n",
      "  \"assignee\" : null,\n",
      "  \"y\" : 0.0,\n",
      "  \"scale\" : 1.0,\n",
      "  \"style\" : {\n",
      "    \"backgroundColor\" : \"#ff00ff\"\n",
      "  },\n",
      "  \"createdAt\" : \"2021-07-06T23:12:11Z\",\n",
      "  \"createdBy\" : {\n",
      "    \"type\" : \"user\",\n",
      "    \"name\" : \"Sheldon Zhu\",\n",
      "    \"id\" : \"3074457360917294320\"\n",
      "  },\n",
      "  \"modifiedAt\" : \"2021-07-06T23:12:11Z\",\n",
      "  \"modifiedBy\" : {\n",
      "    \"type\" : \"user\",\n",
      "    \"name\" : \"Sheldon Zhu\",\n",
      "    \"id\" : \"3074457360917294320\"\n",
      "  },\n",
      "  \"capabilities\" : {\n",
      "    \"editable\" : true\n",
      "  }\n",
      "}\n"
     ]
    }
   ],
   "source": [
    "#Add widget to the board above(can be ran multiple times)\n",
    "\n",
    "board_id=board_responsejson.get('id')\n",
    "url = \"https://api.miro.com/v1/boards/\" + board_id+ \"/widgets/\"\n",
    "\n",
    "#Go to https://developers.miro.com/reference#widget-types to see the different types of widgets, \n",
    "#then click on each widget to see what properties they have\n",
    "payload = {\n",
    "  \"type\": \"card\",\n",
    "  \"title\": \"Environmental effects of COVID-19\",\n",
    "    \"x\": 0,\n",
    "    \"y\": 0,\n",
    "  \"style\": {\n",
    "    \"backgroundColor\": \"#ff00ff\"\n",
    "  }\n",
    "}\n",
    "headers = {\n",
    "    \"Accept\": \"application/json\",\n",
    "    \"Content-Type\": \"application/json\",\n",
    "    \"Authorization\": \"Bearer \" + access_token\n",
    "}\n",
    "\n",
    "widget_response = requests.request(\"POST\", url, json=payload, headers=headers)\n",
    "widget_responsejson=json.loads(widget_response.text)\n",
    "widget_id=widget_responsejson.get('id')\n",
    "print(widget_response.text)"
   ]
  },
  {
   "cell_type": "code",
   "execution_count": 82,
   "id": "4e3d1551",
   "metadata": {},
   "outputs": [
    {
     "ename": "IndexError",
     "evalue": "list index out of range",
     "output_type": "error",
     "traceback": [
      "\u001b[1;31m---------------------------------------------------------------------------\u001b[0m",
      "\u001b[1;31mIndexError\u001b[0m                                Traceback (most recent call last)",
      "\u001b[1;32m<ipython-input-82-dd9bfc2bf838>\u001b[0m in \u001b[0;36m<module>\u001b[1;34m\u001b[0m\n\u001b[0;32m     11\u001b[0m \u001b[0mwidgets_responsejson\u001b[0m\u001b[1;33m=\u001b[0m\u001b[0mjson\u001b[0m\u001b[1;33m.\u001b[0m\u001b[0mloads\u001b[0m\u001b[1;33m(\u001b[0m\u001b[0mwidgets_response\u001b[0m\u001b[1;33m.\u001b[0m\u001b[0mtext\u001b[0m\u001b[1;33m)\u001b[0m\u001b[1;33m\u001b[0m\u001b[1;33m\u001b[0m\u001b[0m\n\u001b[0;32m     12\u001b[0m \u001b[1;31m#Get the n-th widget in the board\u001b[0m\u001b[1;33m\u001b[0m\u001b[1;33m\u001b[0m\u001b[1;33m\u001b[0m\u001b[0m\n\u001b[1;32m---> 13\u001b[1;33m \u001b[0mprint\u001b[0m\u001b[1;33m(\u001b[0m\u001b[0mwidgets_responsejson\u001b[0m\u001b[1;33m.\u001b[0m\u001b[0mget\u001b[0m\u001b[1;33m(\u001b[0m\u001b[1;34m'data'\u001b[0m\u001b[1;33m)\u001b[0m\u001b[1;33m[\u001b[0m\u001b[1;36m2\u001b[0m\u001b[1;33m]\u001b[0m\u001b[1;33m)\u001b[0m\u001b[1;33m\u001b[0m\u001b[1;33m\u001b[0m\u001b[0m\n\u001b[0m",
      "\u001b[1;31mIndexError\u001b[0m: list index out of range"
     ]
    }
   ],
   "source": [
    "#Get list of all widgets for a board with its respective board_id\n",
    "\n",
    "url = \"https://api.miro.com/v1/boards/\" + board_id+ \"/widgets/\"\n",
    "\n",
    "headers = {\n",
    "    \"Accept\": \"application/json\",\n",
    "    \"Authorization\": \"Bearer \"+ access_token\n",
    "}\n",
    "\n",
    "widgets_response = requests.request(\"GET\", url, headers=headers)\n",
    "widgets_responsejson=json.loads(widgets_response.text)\n",
    "#Get the 0-th widget in the board\n",
    "print(widgets_responsejson.get('data')[0])"
   ]
  }
 ],
 "metadata": {
  "kernelspec": {
   "display_name": "Python 3",
   "language": "python",
   "name": "python3"
  },
  "language_info": {
   "codemirror_mode": {
    "name": "ipython",
    "version": 3
   },
   "file_extension": ".py",
   "mimetype": "text/x-python",
   "name": "python",
   "nbconvert_exporter": "python",
   "pygments_lexer": "ipython3",
   "version": "3.7.10"
  }
 },
 "nbformat": 4,
 "nbformat_minor": 5
}
